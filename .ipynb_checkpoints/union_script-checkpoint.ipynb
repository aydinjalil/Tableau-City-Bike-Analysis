{
 "cells": [
  {
   "cell_type": "markdown",
   "metadata": {},
   "source": [
    "# Data Source\n",
    "\n",
    "The data used in this Tableau analysis is retrieved from https://s3.amazonaws.com/tripdata/index.html web source.\n",
    "The datasets used in this analysis are as follows:\n",
    "\n",
    "* JC-202003-citibike-tripdata.csv\n",
    "* JC-202002-citibike-tripdata.csv\n",
    "* JC-202001-citibike-tripdata.csv\n",
    "* JC-201912-citibike-tripdata.csv\n",
    "* JC-201911-citibike-tripdata.csv\n",
    "* JC-201910-citibike-tripdata.csv\n",
    "* JC-201909-citibike-tripdata.csv\n",
    "* JC-201908-citibike-tripdata.csv\n",
    "* JC-201907-citibike-tripdata.csv\n",
    "* JC-201906-citibike-tripdata.csv\n",
    "* JC-201905-citibike-tripdata.csv\n",
    "* JC-201904-citibike-tripdata.csv"
   ]
  },
  {
   "cell_type": "markdown",
   "metadata": {},
   "source": [
    "# Goal\n",
    "\n",
    "This is a small script to concatenate the data that are stored in multiple csv files into a single csv file that will serve as main dataset for Tableau analysis.\n",
    "The final dataset contains 12 months worth of citibike trip data."
   ]
  },
  {
   "cell_type": "code",
   "execution_count": 2,
   "metadata": {},
   "outputs": [
    {
     "name": "stdout",
     "output_type": "stream",
     "text": [
      "JC-201904-citibike-tripdata.csv\n",
      "JC-201905-citibike-tripdata.csv\n",
      "JC-201906-citibike-tripdata.csv\n",
      "JC-201907-citibike-tripdata.csv\n",
      "JC-201908-citibike-tripdata.csv\n",
      "JC-201909-citibike-tripdata.csv\n",
      "JC-201910-citibike-tripdata.csv\n",
      "JC-201911-citibike-tripdata.csv\n",
      "JC-201912-citibike-tripdata.csv\n",
      "JC-202001-citibike-tripdata.csv\n",
      "JC-202002-citibike-tripdata.csv\n",
      "JC-202003-citibike-tripdata.csv\n",
      "Untitled.ipynb\n"
     ]
    }
   ],
   "source": [
    "!ls"
   ]
  },
  {
   "cell_type": "code",
   "execution_count": 2,
   "metadata": {},
   "outputs": [],
   "source": [
    "import pandas as pd"
   ]
  },
  {
   "cell_type": "markdown",
   "metadata": {},
   "source": [
    "## Read csv files into pandas dataframe"
   ]
  },
  {
   "cell_type": "code",
   "execution_count": 3,
   "metadata": {},
   "outputs": [],
   "source": [
    "march2020 = pd.read_csv(\"JC-202003-citibike-tripdata.csv\")\n",
    "feb2020 = pd.read_csv(\"JC-202002-citibike-tripdata.csv\")\n",
    "jan2020 = pd.read_csv(\"JC-202001-citibike-tripdata.csv\")\n",
    "dec2019 = pd.read_csv(\"JC-201912-citibike-tripdata.csv\")\n",
    "nov2019 = pd.read_csv(\"JC-201911-citibike-tripdata.csv\")\n",
    "oct2019 = pd.read_csv(\"JC-201910-citibike-tripdata.csv\")\n",
    "sep2019 = pd.read_csv(\"JC-201909-citibike-tripdata.csv\")\n",
    "aug2019 = pd.read_csv(\"JC-201908-citibike-tripdata.csv\")\n",
    "jul2019 = pd.read_csv(\"JC-201907-citibike-tripdata.csv\")\n",
    "jun2019 = pd.read_csv(\"JC-201906-citibike-tripdata.csv\")\n",
    "may2019 = pd.read_csv(\"JC-201905-citibike-tripdata.csv\")\n",
    "apr2019 = pd.read_csv(\"JC-201904-citibike-tripdata.csv\")"
   ]
  },
  {
   "cell_type": "markdown",
   "metadata": {},
   "source": [
    "## Unify data into one dataframe in pairs"
   ]
  },
  {
   "cell_type": "code",
   "execution_count": 4,
   "metadata": {},
   "outputs": [],
   "source": [
    "union1 = pd.concat([march2020, feb2020], ignore_index=True)\n",
    "union2 = pd.concat([jan2020, dec2019], ignore_index=True)\n",
    "union3 = pd.concat([nov2019, oct2019], ignore_index=True)\n",
    "union4 = pd.concat([sep2019, aug2019], ignore_index=True)\n",
    "union5 = pd.concat([jul2019, jun2019], ignore_index=True)\n",
    "union6 = pd.concat([may2019, apr2019], ignore_index=True)\n",
    "union_semi1 = pd.concat([union1, union2], ignore_index=True)\n",
    "union_semi2 = pd.concat([union3, union4], ignore_index=True)\n",
    "union_semi3 = pd.concat([union5, union6], ignore_index=True)\n",
    "union_pre_final = pd.concat([union_semi1, union_semi2], ignore_index=True)\n",
    "union_final = pd.concat([union_pre_final, union_semi3], ignore_index=True)"
   ]
  },
  {
   "cell_type": "code",
   "execution_count": 5,
   "metadata": {},
   "outputs": [],
   "source": [
    "union_final = union_final.sort_values(by=[\"starttime\"], ascending=False)"
   ]
  },
  {
   "cell_type": "markdown",
   "metadata": {},
   "source": [
    "## Store unified data into final csv file."
   ]
  },
  {
   "cell_type": "code",
   "execution_count": 20,
   "metadata": {},
   "outputs": [],
   "source": [
    "union_final.to_csv(\"cityBike_final.csv\", index=False)"
   ]
  },
  {
   "cell_type": "code",
   "execution_count": null,
   "metadata": {},
   "outputs": [],
   "source": []
  }
 ],
 "metadata": {
  "kernelspec": {
   "display_name": "Python 3.7.5 64-bit ('python37': conda)",
   "language": "python",
   "name": "python37564bitpython37condae93ba7dd679f49659f306f287a61ed81"
  },
  "language_info": {
   "codemirror_mode": {
    "name": "ipython",
    "version": 3
   },
   "file_extension": ".py",
   "mimetype": "text/x-python",
   "name": "python",
   "nbconvert_exporter": "python",
   "pygments_lexer": "ipython3",
   "version": "3.7.5"
  }
 },
 "nbformat": 4,
 "nbformat_minor": 2
}
